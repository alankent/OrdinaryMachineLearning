{
  "nbformat": 4,
  "nbformat_minor": 0,
  "metadata": {
    "colab": {
      "provenance": [],
      "authorship_tag": "ABX9TyMl+6ymWnCrPEruR1qZLWes",
      "include_colab_link": true
    },
    "kernelspec": {
      "name": "python3",
      "display_name": "Python 3"
    },
    "language_info": {
      "name": "python"
    }
  },
  "cells": [
    {
      "cell_type": "markdown",
      "metadata": {
        "id": "view-in-github",
        "colab_type": "text"
      },
      "source": [
        "<a href=\"https://colab.research.google.com/github/alankent/OrdinaryMachineLearning/blob/main/First_Colab_Test.ipynb\" target=\"_parent\"><img src=\"https://colab.research.google.com/assets/colab-badge.svg\" alt=\"Open In Colab\"/></a>"
      ]
    },
    {
      "cell_type": "code",
      "execution_count": 2,
      "metadata": {
        "colab": {
          "base_uri": "https://localhost:8080/"
        },
        "id": "ddPnqfdbKCjY",
        "outputId": "8d433522-8870-407d-f7dd-a89ca9a499af"
      },
      "outputs": [
        {
          "output_type": "execute_result",
          "data": {
            "text/plain": [
              "3"
            ]
          },
          "metadata": {},
          "execution_count": 2
        }
      ],
      "source": [
        "1+2"
      ]
    },
    {
      "cell_type": "markdown",
      "source": [
        "Here is text\n",
        "# My Heading\n"
      ],
      "metadata": {
        "id": "Hq-EpOGbKc-v"
      }
    },
    {
      "cell_type": "code",
      "source": [],
      "metadata": {
        "id": "hNkSyzYVKhxn"
      },
      "execution_count": null,
      "outputs": []
    }
  ]
}